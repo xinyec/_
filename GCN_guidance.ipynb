{
 "cells": [
  {
   "cell_type": "markdown",
   "metadata": {},
   "source": [
    "# A Simple Numpy and Torch Implementation for GCN"
   ]
  },
  {
   "cell_type": "markdown",
   "metadata": {},
   "source": [
    "Here GCN is implemented according to the paper \"Semi-Supervised Classification with Graph Convolutional Networks\"  Thomas N. Kipf,Max Welling"
   ]
  },
  {
   "cell_type": "code",
   "execution_count": 1,
   "metadata": {},
   "outputs": [],
   "source": [
    "import numpy as np\n",
    "import matplotlib.pyplot as plt\n",
    "%matplotlib inline"
   ]
  },
  {
   "cell_type": "markdown",
   "metadata": {},
   "source": [
    "1. introduction"
   ]
  },
  {
   "cell_type": "markdown",
   "metadata": {},
   "source": [
    "<img src=\"GCNPNG.PNG\" width=\"40%\">"
   ]
  },
  {
   "cell_type": "markdown",
   "metadata": {},
   "source": [
    "(1). Adjacency matrix"
   ]
  },
  {
   "cell_type": "code",
   "execution_count": 2,
   "metadata": {},
   "outputs": [
    {
     "data": {
      "text/plain": [
       "array([[0., 1., 0., 0., 1.],\n",
       "       [0., 0., 0., 0., 0.],\n",
       "       [1., 1., 0., 1., 0.],\n",
       "       [0., 0., 0., 0., 0.],\n",
       "       [0., 0., 1., 1., 0.]])"
      ]
     },
     "metadata": {},
     "output_type": "display_data"
    }
   ],
   "source": [
    "A = np.array([\n",
    "    [0, 0, 1, 0, 0],\n",
    "    [1, 0, 1, 0, 0],\n",
    "    [0, 0, 0, 0, 1],\n",
    "    [0, 0, 1, 0, 1],\n",
    "    [1, 0, 0, 0, 0]],\n",
    "    dtype=float\n",
    ").T\n",
    "\n",
    "display(A)"
   ]
  },
  {
   "cell_type": "code",
   "execution_count": 3,
   "metadata": {},
   "outputs": [
    {
     "data": {
      "text/plain": [
       "array([[0., 1., 0., 0., 1.],\n",
       "       [0., 0., 0., 0., 0.],\n",
       "       [1., 1., 0., 1., 0.],\n",
       "       [0., 0., 0., 0., 0.],\n",
       "       [0., 0., 1., 1., 0.]])"
      ]
     },
     "metadata": {},
     "output_type": "display_data"
    },
    {
     "name": "stdout",
     "output_type": "stream",
     "text": [
      "There are the same as the adjacency matrix above, this will be helpful for the our following adjacency matrix construction\n"
     ]
    }
   ],
   "source": [
    "def adjacencyBuild(n, neg, num):\n",
    "    \"\"\"n: current node, neg: neighbour node, num: number of the nodes\"\"\"\n",
    "    \n",
    "    if len(n) != len(neg):\n",
    "        print(\"error\")\n",
    "        return \n",
    "    N = len(n)\n",
    "    A = np.zeros((num, num))\n",
    "    for i in range(N):\n",
    "        A[n[i]-1, neg[i]-1] = 1\n",
    "    return A.T\n",
    "        \n",
    "node = [1,2,2,3,4,4,5]\n",
    "neig = [3,1,3,5,3,5,1]\n",
    "\n",
    "testA = adjacencyBuild(node, neig, 5)\n",
    "display(testA)\n",
    "print(\"There are the same as the adjacency matrix above, this will be helpful for the our following adjacency matrix construction\")"
   ]
  },
  {
   "cell_type": "markdown",
   "metadata": {},
   "source": [
    "(2). Define 2-channel features"
   ]
  },
  {
   "cell_type": "code",
   "execution_count": 4,
   "metadata": {},
   "outputs": [
    {
     "data": {
      "text/plain": [
       "array([[ 6,  1],\n",
       "       [ 2, -1],\n",
       "       [ 1, -1],\n",
       "       [ 3, -3],\n",
       "       [ 5,  0]])"
      ]
     },
     "metadata": {},
     "output_type": "display_data"
    }
   ],
   "source": [
    "features = np.array([\n",
    "    [6, 1],\n",
    "    [2, -1],\n",
    "    [1, -1],\n",
    "    [3, -3],\n",
    "    [5, 0],\n",
    "])\n",
    "\n",
    "display(features)"
   ]
  },
  {
   "cell_type": "code",
   "execution_count": 5,
   "metadata": {
    "scrolled": true
   },
   "outputs": [
    {
     "name": "stdout",
     "output_type": "stream",
     "text": [
      "A:\n"
     ]
    },
    {
     "data": {
      "text/plain": [
       "array([[0., 1., 0., 0., 1.],\n",
       "       [0., 0., 0., 0., 0.],\n",
       "       [1., 1., 0., 1., 0.],\n",
       "       [0., 0., 0., 0., 0.],\n",
       "       [0., 0., 1., 1., 0.]])"
      ]
     },
     "metadata": {},
     "output_type": "display_data"
    },
    {
     "name": "stdout",
     "output_type": "stream",
     "text": [
      "X(features):\n"
     ]
    },
    {
     "data": {
      "text/plain": [
       "array([[ 6,  1],\n",
       "       [ 2, -1],\n",
       "       [ 1, -1],\n",
       "       [ 3, -3],\n",
       "       [ 5,  0]])"
      ]
     },
     "metadata": {},
     "output_type": "display_data"
    },
    {
     "name": "stdout",
     "output_type": "stream",
     "text": [
      "AX:\n"
     ]
    },
    {
     "data": {
      "text/plain": [
       "array([[ 7., -1.],\n",
       "       [ 0.,  0.],\n",
       "       [11., -3.],\n",
       "       [ 0.,  0.],\n",
       "       [ 4., -4.]])"
      ]
     },
     "metadata": {},
     "output_type": "display_data"
    }
   ],
   "source": [
    "print(\"A:\")\n",
    "display(A)\n",
    "print(\"X(features):\")\n",
    "display(features)\n",
    "print(\"AX:\")\n",
    "display(A.dot(features))"
   ]
  },
  {
   "cell_type": "markdown",
   "metadata": {},
   "source": [
    "The graph convolutional layer represents each node as the aggregation of its adjacent nodes.\n",
    "As we can see, the representation of each node (each row) is the sum of the features of its adjacent nodes (the adjacent nodes that the node points to).  "
   ]
  },
  {
   "cell_type": "markdown",
   "metadata": {},
   "source": [
    "(3). Add self loop"
   ]
  },
  {
   "cell_type": "code",
   "execution_count": 6,
   "metadata": {},
   "outputs": [
    {
     "data": {
      "text/plain": [
       "array([[1., 0., 0., 0., 0.],\n",
       "       [0., 1., 0., 0., 0.],\n",
       "       [0., 0., 1., 0., 0.],\n",
       "       [0., 0., 0., 1., 0.],\n",
       "       [0., 0., 0., 0., 1.]])"
      ]
     },
     "metadata": {},
     "output_type": "display_data"
    }
   ],
   "source": [
    "I = np.eye(A.shape[0])\n",
    "display(I)"
   ]
  },
  {
   "cell_type": "code",
   "execution_count": 7,
   "metadata": {},
   "outputs": [
    {
     "data": {
      "text/plain": [
       "array([[1., 1., 0., 0., 1.],\n",
       "       [0., 1., 0., 0., 0.],\n",
       "       [1., 1., 1., 1., 0.],\n",
       "       [0., 0., 0., 1., 0.],\n",
       "       [0., 0., 1., 1., 1.]])"
      ]
     },
     "metadata": {},
     "output_type": "display_data"
    }
   ],
   "source": [
    "A_hat = A + I\n",
    "display(A_hat)"
   ]
  },
  {
   "cell_type": "code",
   "execution_count": 8,
   "metadata": {},
   "outputs": [
    {
     "name": "stdout",
     "output_type": "stream",
     "text": [
      "A*X:\n"
     ]
    },
    {
     "data": {
      "text/plain": [
       "array([[13.,  0.],\n",
       "       [ 2., -1.],\n",
       "       [12., -4.],\n",
       "       [ 3., -3.],\n",
       "       [ 9., -4.]])"
      ]
     },
     "metadata": {},
     "output_type": "display_data"
    }
   ],
   "source": [
    "print(\"A*X:\")\n",
    "display(A_hat.dot(features))"
   ]
  },
  {
   "cell_type": "code",
   "execution_count": 9,
   "metadata": {},
   "outputs": [
    {
     "data": {
      "text/plain": [
       "array([[2., 0., 0., 0., 0.],\n",
       "       [0., 3., 0., 0., 0.],\n",
       "       [0., 0., 2., 0., 0.],\n",
       "       [0., 0., 0., 3., 0.],\n",
       "       [0., 0., 0., 0., 2.]])"
      ]
     },
     "metadata": {},
     "output_type": "display_data"
    }
   ],
   "source": [
    "D = np.diag(np.array(np.sum(A_hat, axis=0)))\n",
    "display(D)"
   ]
  },
  {
   "cell_type": "code",
   "execution_count": 10,
   "metadata": {},
   "outputs": [
    {
     "data": {
      "text/plain": [
       "array([[0.5       , 0.        , 0.        , 0.        , 0.        ],\n",
       "       [0.        , 0.33333333, 0.        , 0.        , 0.        ],\n",
       "       [0.        , 0.        , 0.5       , 0.        , 0.        ],\n",
       "       [0.        , 0.        , 0.        , 0.33333333, 0.        ],\n",
       "       [0.        , 0.        , 0.        , 0.        , 0.5       ]])"
      ]
     },
     "execution_count": 10,
     "metadata": {},
     "output_type": "execute_result"
    }
   ],
   "source": [
    "np.linalg.inv(D)"
   ]
  },
  {
   "cell_type": "code",
   "execution_count": 11,
   "metadata": {},
   "outputs": [
    {
     "data": {
      "text/plain": [
       "array([[0.70710678, 0.        , 0.        , 0.        , 0.        ],\n",
       "       [0.        , 0.57735027, 0.        , 0.        , 0.        ],\n",
       "       [0.        , 0.        , 0.70710678, 0.        , 0.        ],\n",
       "       [0.        , 0.        , 0.        , 0.57735027, 0.        ],\n",
       "       [0.        , 0.        , 0.        , 0.        , 0.70710678]])"
      ]
     },
     "metadata": {},
     "output_type": "display_data"
    }
   ],
   "source": [
    "D_half = np.diag(np.array(np.power(np.sum(A_hat, axis=0),-0.5)))\n",
    "display(D_half)"
   ]
  },
  {
   "cell_type": "markdown",
   "metadata": {},
   "source": [
    "(4). normalization(two form, note spectral GCN should use the first form)\n",
    "\n",
    "$\\hat{D}^{-1/2}\\hat{A}\\hat{D}^{-1/2}X$\n",
    "\n",
    "From stefan:\n",
    "\n",
    "there might be numerical instabilities because the filters are not bounded functions outside the interval [-1,1] (or [-2,2])\n",
    "in fact, chebyshev polynomials grow extremely fast outside that interval and if A has eigenvalues there this might cause numerical instabilities, it would probably \"work\" in many case , but certainly not be the \"right thing to do\" scientifically :wink:\n",
    "\n",
    "\n",
    "$\\hat{D}^{-1}\\hat{A}X$"
   ]
  },
  {
   "cell_type": "code",
   "execution_count": 12,
   "metadata": {
    "scrolled": false
   },
   "outputs": [
    {
     "name": "stdout",
     "output_type": "stream",
     "text": [
      "normalization1:\n",
      "\n",
      "[[17.86575026  0.25951302]\n",
      " [ 3.46410162 -1.73205081]\n",
      " [15.67299763 -4.61880215]\n",
      " [ 5.19615242 -5.19615242]\n",
      " [11.94938299 -4.87831518]]\n",
      "normalization2:\n",
      "\n",
      "[[ 6.5         0.        ]\n",
      " [ 0.66666667 -0.33333333]\n",
      " [ 6.         -2.        ]\n",
      " [ 1.         -1.        ]\n",
      " [ 4.5        -2.        ]]\n"
     ]
    }
   ],
   "source": [
    "print(\"normalization1:\\n\")#np.linalg.matrix_power(D, -1)\n",
    "print(np.dot(np.dot(np.dot(D,A_hat),D_half), features))\n",
    "print(\"normalization2:\\n\")#np.linalg.matrix_power(D, -1)\n",
    "print(np.dot(np.dot(np.linalg.inv(D),A_hat), features))"
   ]
  },
  {
   "cell_type": "markdown",
   "metadata": {},
   "source": [
    "(5). Add weights"
   ]
  },
  {
   "cell_type": "code",
   "execution_count": 13,
   "metadata": {},
   "outputs": [],
   "source": [
    "W = np.array([\n",
    "             [1, -0.5],\n",
    "             [-0.6, 1]\n",
    "         ])"
   ]
  },
  {
   "cell_type": "code",
   "execution_count": 14,
   "metadata": {
    "scrolled": true
   },
   "outputs": [
    {
     "name": "stdout",
     "output_type": "stream",
     "text": [
      "add weights:\n",
      "\n",
      "[[ 3.8  -2.25]\n",
      " [ 0.    0.  ]\n",
      " [ 6.4  -4.25]\n",
      " [ 0.    0.  ]\n",
      " [ 3.2  -3.  ]]\n"
     ]
    }
   ],
   "source": [
    "print(\"add weights:\\n\")\n",
    "print(np.dot(np.dot(np.dot(np.linalg.inv(D),A), features),W))"
   ]
  },
  {
   "cell_type": "markdown",
   "metadata": {},
   "source": [
    "add activation function(tanh)"
   ]
  },
  {
   "cell_type": "code",
   "execution_count": 15,
   "metadata": {},
   "outputs": [
    {
     "data": {
      "text/plain": [
       "array([[ 0.9989996 , -0.97802611],\n",
       "       [ 0.        ,  0.        ],\n",
       "       [ 0.99999448, -0.99959315],\n",
       "       [ 0.        ,  0.        ],\n",
       "       [ 0.9966824 , -0.99505475]])"
      ]
     },
     "metadata": {},
     "output_type": "display_data"
    }
   ],
   "source": [
    "display(np.tanh(np.dot(np.dot(np.dot(np.linalg.inv(D),A), features),W)))"
   ]
  },
  {
   "cell_type": "code",
   "execution_count": 16,
   "metadata": {},
   "outputs": [
    {
     "data": {
      "text/plain": [
       "array([[0.97811873, 0.09534946],\n",
       "       [0.5       , 0.5       ],\n",
       "       [0.9983412 , 0.01406363],\n",
       "       [0.5       , 0.5       ],\n",
       "       [0.96083428, 0.04742587]])"
      ]
     },
     "metadata": {},
     "output_type": "display_data"
    }
   ],
   "source": [
    "sigmoid = lambda x:1/(1+np.exp(-x))\n",
    "display(sigmoid(np.dot(np.dot(np.dot(np.linalg.inv(D),A), features),W)))"
   ]
  },
  {
   "cell_type": "markdown",
   "metadata": {},
   "source": [
    " "
   ]
  },
  {
   "cell_type": "markdown",
   "metadata": {},
   "source": [
    " "
   ]
  },
  {
   "cell_type": "markdown",
   "metadata": {},
   "source": [
    "2. Application in Cora Dataset\n",
    "\n",
    "Here, a semi-supervised task about Cora Dataset is implemented step by step"
   ]
  },
  {
   "cell_type": "code",
   "execution_count": 17,
   "metadata": {},
   "outputs": [],
   "source": [
    "import torch\n",
    "\n",
    "#do a little modified compared to before, it is symmetric matrix form\n",
    "def adjacencyBuild(n, neg, num):\n",
    "    \"\"\"n: current node, neg: neighbour node, num: number of the nodes\"\"\"\n",
    "    if len(n) != len(neg):\n",
    "        print(\"error\")\n",
    "        return \n",
    "    N = len(n)\n",
    "    A = np.zeros((num, num))\n",
    "    for i in range(N):\n",
    "        A[n[i], neg[i]] = 1\n",
    "        A[neg[i], n[i]] = 1\n",
    "    return A\n",
    "\n",
    "\n",
    "#define a accuracy calculation, (correct prediction)/ total\n",
    "def acc_calc(true, pred):\n",
    "    correct = pred.eq(true).sum().item()\n",
    "    total = test_mask.sum().item()\n",
    "    return (correct / total)"
   ]
  },
  {
   "cell_type": "markdown",
   "metadata": {},
   "source": [
    "(1). data prepocessing(you can ignore this part, but do figure out what the data format is)"
   ]
  },
  {
   "cell_type": "code",
   "execution_count": 18,
   "metadata": {},
   "outputs": [],
   "source": [
    "train_mask = torch.Tensor(np.load(\"data/train_mask.npy\")).bool() # [True, False,...,True], size: 140\n",
    "test_mask = torch.Tensor(np.load(\"data/test_mask.npy\")).bool() # [True, False,...,True], size: 1000\n",
    "\n",
    "features = torch.Tensor(np.load(\"data/features.npy\"))\n",
    "label_list = torch.Tensor(np.load(\"data/label_list.npy\"))\n",
    "edge_index = np.load(\"data/edge_index.npy\")\n",
    "feat_dim = features.shape[1]\n",
    "num_class = int(label_list.max().data.numpy() + 1) #7\n",
    "\n",
    "node_num = features.shape[0]\n",
    "A = adjacencyBuild(edge_index[0,:],edge_index[1,:], node_num)\n",
    "A = A + np.eye(A.shape[0])\n",
    "A = torch.Tensor(A)\n",
    "D = torch.diag(pow(torch.sum(A, axis=0),-1/2)) #nomilization"
   ]
  },
  {
   "cell_type": "code",
   "execution_count": 19,
   "metadata": {},
   "outputs": [
    {
     "name": "stdout",
     "output_type": "stream",
     "text": [
      "****************************** data info******************************\n",
      "number of node : 2708\n",
      "number of edges : 5278\n",
      "number of classes : 7\n",
      "channel of node features : 1433\n",
      "shape of feat_Matrix : torch.Size([2708, 1433])\n",
      "***********************************************************************\n"
     ]
    }
   ],
   "source": [
    "print(\"{} data info{}\".format(\"*\"*30, \"*\"*30))\n",
    "print(\"number of node : {}\".format(node_num))\n",
    "print(\"number of edges : {}\".format(round(edge_index.shape[1]/2))) # maybe mistake\n",
    "print(\"number of classes : {}\".format(num_class))\n",
    "print(\"channel of node features : {}\".format(feat_dim))\n",
    "print(\"shape of feat_Matrix : {}\".format(features.shape))\n",
    "print(\"{}***********{}\".format(\"*\"*30, \"*\"*30))"
   ]
  },
  {
   "cell_type": "markdown",
   "metadata": {},
   "source": [
    "(2). This part show you some basic principles, you can also jump this step. "
   ]
  },
  {
   "cell_type": "code",
   "execution_count": 20,
   "metadata": {},
   "outputs": [],
   "source": [
    "relu = lambda x:np.maximum(0,x)\n",
    "sigmoid = lambda x:1/(1+np.exp(-x))\n",
    "\n",
    "def gcn_layer(A, D, X, W, activation = 'relu'):\n",
    "    if activation == 'relu':\n",
    "        return relu(np.dot(np.dot(np.dot(np.linalg.inv(D),A),X),W))\n",
    "    elif activation == 'sigmoid':\n",
    "        return sigmoid(np.dot(np.dot(np.dot(np.linalg.inv(D),A),X),W))"
   ]
  },
  {
   "cell_type": "code",
   "execution_count": 21,
   "metadata": {},
   "outputs": [],
   "source": [
    "W_N = np.random.normal(loc=0, scale=1, size=(feat_dim, node_num))\n",
    "W_W = np.random.normal(loc=0, size=(node_num, num_class))"
   ]
  },
  {
   "cell_type": "code",
   "execution_count": 22,
   "metadata": {},
   "outputs": [],
   "source": [
    "hidden = gcn_layer(A, D, features, W_N, activation = 'relu')\n",
    "output = gcn_layer(A, D, hidden, W_W, activation = 'relu')"
   ]
  },
  {
   "cell_type": "code",
   "execution_count": 23,
   "metadata": {},
   "outputs": [],
   "source": [
    "result = torch.nn.Softmax(dim=1)(torch.Tensor(output))"
   ]
  },
  {
   "cell_type": "code",
   "execution_count": 24,
   "metadata": {},
   "outputs": [
    {
     "data": {
      "text/plain": [
       "torch.Size([2708, 7])"
      ]
     },
     "metadata": {},
     "output_type": "display_data"
    },
    {
     "data": {
      "text/plain": [
       "tensor([[0., 0., 0.,  ..., 1., 0., 0.],\n",
       "        [0., 0., 0.,  ..., 0., 0., 0.],\n",
       "        [0., 0., 0.,  ..., 0., 0., 0.],\n",
       "        ...,\n",
       "        [0., 0., 0.,  ..., 1., 0., 0.],\n",
       "        [1., 0., 0.,  ..., 0., 0., 0.],\n",
       "        [1., 0., 0.,  ..., 0., 0., 0.]])"
      ]
     },
     "metadata": {},
     "output_type": "display_data"
    },
    {
     "data": {
      "text/plain": [
       "tensor([4, 3, 3,  ..., 4, 0, 0])"
      ]
     },
     "metadata": {},
     "output_type": "display_data"
    }
   ],
   "source": [
    "display(result.size())\n",
    "display(result)\n",
    "display(torch.argmax(result,dim=1))"
   ]
  },
  {
   "cell_type": "code",
   "execution_count": 25,
   "metadata": {},
   "outputs": [
    {
     "data": {
      "text/plain": [
       "tensor(1.9488)"
      ]
     },
     "metadata": {},
     "output_type": "display_data"
    }
   ],
   "source": [
    "loss_fn = torch.nn.CrossEntropyLoss()\n",
    "loss = loss_fn(result, label_list.long())\n",
    "display(loss)"
   ]
  },
  {
   "cell_type": "markdown",
   "metadata": {},
   "source": [
    "(3).Start training"
   ]
  },
  {
   "cell_type": "code",
   "execution_count": 26,
   "metadata": {},
   "outputs": [],
   "source": [
    "def gcn_layer(A, D, X, W, activation = 'relu'):\n",
    "    if activation == 'relu':\n",
    "        return torch.relu(torch.mm(torch.mm(torch.mm(torch.mm(D, A),D),X),W))\n",
    "    elif activation == 'sigmoid':\n",
    "        return torch.sigmoid(torch.mm(torch.mm(torch.mm(torch.mm(D, A),D),X),W))\n",
    "    else:\n",
    "        return torch.mm(torch.mm(torch.mm(torch.mm(D, A),D),X),W)\n",
    "    \n",
    "def two_layer_gcn(A, D, X, W1, W2):\n",
    "    hidden = gcn_layer(A, D, X, W1, activation = None) # we do not add any activation\n",
    "    output = gcn_layer(A, D, hidden, W2, activation = None)\n",
    "    return torch.nn.Softmax(dim=1)(output)"
   ]
  },
  {
   "cell_type": "code",
   "execution_count": 27,
   "metadata": {},
   "outputs": [],
   "source": [
    "W_N = np.random.normal(loc=0, scale=1, size=(feat_dim, 50))\n",
    "W_W = np.random.normal(loc=0, size=(50, num_class))\n",
    "\n",
    "# both of the following parameters will updated during training because requires_grad=True\n",
    "W_N = torch.autograd.Variable(torch.Tensor(W_N), requires_grad=True) \n",
    "W_W = torch.autograd.Variable(torch.Tensor(W_W), requires_grad=True) \n",
    "\n",
    "A = torch.Tensor(A)\n",
    "D = torch.Tensor(D)\n",
    "features = torch.Tensor(features)\n",
    "\n",
    "learning_rate = 0.5 # the smaller it would be better, but after that, you need to increase the size of epoches\n",
    "losses = []\n",
    "epoches = 250\n",
    "loss_fn = torch.nn.CrossEntropyLoss()"
   ]
  },
  {
   "cell_type": "code",
   "execution_count": 28,
   "metadata": {},
   "outputs": [
    {
     "name": "stdout",
     "output_type": "stream",
     "text": [
      "if we do not train, the accuracy is : 0.146000\n"
     ]
    }
   ],
   "source": [
    "prediction = two_layer_gcn(A, D, features, W_N, W_W)\n",
    "prediction = torch.argmax(prediction,dim=1)\n",
    "correct = float(prediction[test_mask].eq(label_list[test_mask]).sum().item())\n",
    "accuracy = correct / test_mask.sum().item()\n",
    "print('if we do not train, the accuracy is : {:.6f}'.format(accuracy))"
   ]
  },
  {
   "cell_type": "code",
   "execution_count": 29,
   "metadata": {
    "scrolled": false
   },
   "outputs": [
    {
     "name": "stdout",
     "output_type": "stream",
     "text": [
      "loss:1.9907597303390503\n",
      "loss:1.9030730724334717\n",
      "loss:1.879948377609253\n",
      "loss:1.8589141368865967\n",
      "loss:1.8543177843093872\n",
      "loss:1.8528002500534058\n",
      "loss:1.8461103439331055\n",
      "loss:1.8453397750854492\n",
      "loss:1.8448760509490967\n",
      "loss:1.8444111347198486\n",
      "loss:1.8438116312026978\n",
      "loss:1.8434792757034302\n",
      "loss:1.8432178497314453\n"
     ]
    }
   ],
   "source": [
    "for i in range(epoches):\n",
    "    # hidden = gcn_layer(A_hat, D, feat_Matrix, W_N, activation = 'relu')\n",
    "    # output = gcn_layer(A_hat, D, hidden, W_W, activation = 'relu')\n",
    "    # result = torch.nn.Softmax(dim=1)(output)\n",
    "    \n",
    "    result = two_layer_gcn(A, D, features, W_N, W_W)\n",
    "    loss = loss_fn(result[train_mask], label_list[train_mask].long())\n",
    "    \n",
    "    loss.backward()\n",
    "    W_N.data.add_(-learning_rate*W_N.grad.data)\n",
    "    W_W.data.add_(-learning_rate*W_W.grad.data) # this optimizer defined manually is very bad, do not converge efficiently\n",
    "    \n",
    "    W_N.grad.data.zero_() # pytorch will accumulate the gradient, we need to clean it after each epoch training\n",
    "    W_W.grad.data.zero_() \n",
    "    losses.append(loss.data.numpy())\n",
    "    if i % 20 == 0: print('loss:{}'.format(loss))"
   ]
  },
  {
   "cell_type": "code",
   "execution_count": 30,
   "metadata": {},
   "outputs": [
    {
     "name": "stdout",
     "output_type": "stream",
     "text": [
      "after training, the accuracy: 0.211000\n"
     ]
    }
   ],
   "source": [
    "prediction = two_layer_gcn(A, D, features, W_N, W_W)\n",
    "prediction = torch.argmax(prediction,dim=1)\n",
    "correct = float(prediction[test_mask].eq(label_list[test_mask]).sum().item())\n",
    "accuracy = correct / test_mask.sum().item()\n",
    "print('after training, the accuracy: {:.6f}'.format(accuracy))"
   ]
  },
  {
   "cell_type": "code",
   "execution_count": 31,
   "metadata": {},
   "outputs": [
    {
     "data": {
      "image/png": "[encoded data removed]",
      "text/plain": [
       "<Figure size 432x288 with 1 Axes>"
      ]
     },
     "metadata": {
      "needs_background": "light"
     },
     "output_type": "display_data"
    }
   ],
   "source": [
    "plt.plot(losses, label='losses', color='g')\n",
    "plt.legend()\n",
    "plt.show()"
   ]
  },
  {
   "cell_type": "markdown",
   "metadata": {},
   "source": [
    "I applied the model on CPU just considering your convenience that you may run it on your laptop.\n",
    "The accuracy of prediction is low in part because the training epoches are not enough, I set it as small just to make a quick presentation."
   ]
  },
  {
   "cell_type": "markdown",
   "metadata": {},
   "source": [
    " "
   ]
  },
  {
   "cell_type": "markdown",
   "metadata": {},
   "source": [
    "Another form(CUDA/CPU), in this form, we can use the pytorch built-in optimizer which is much more efficient than we used above!"
   ]
  },
  {
   "cell_type": "markdown",
   "metadata": {},
   "source": [
    "We still use the A and features defined above, now we train."
   ]
  },
  {
   "cell_type": "code",
   "execution_count": 32,
   "metadata": {},
   "outputs": [],
   "source": [
    "import torch\n",
    "\n",
    "class GCNlayer(torch.nn.Module):\n",
    "    def __init__(self, feat_dim, out_dim, bias=False):\n",
    "        super(GCNlayer, self).__init__()\n",
    "        # we set two learnable parameters self.W and self.bias (torch.nn.Parameter)\n",
    "        self.W = torch.nn.Parameter(data=torch.rand(feat_dim, out_dim), requires_grad=True) \n",
    "        if bias:\n",
    "            self.bias = torch.nn.Parameter(\n",
    "                data=torch.empty(1,out_dim).uniform_(0,0.05), requires_grad=True)\n",
    "        else:\n",
    "            self.bias = None\n",
    "        \n",
    "    def forward(self,A,X): \n",
    "        D = torch.diag(pow(torch.sum(A, axis=0),-1/2))\n",
    "        if self.bias != None:\n",
    "            output = torch.mm(torch.mm(torch.mm(torch.mm(D, A),D),X),self.W) + self.bias\n",
    "        else:\n",
    "            output = torch.mm(torch.mm(torch.mm(torch.mm(D, A),D),X),self.W)\n",
    "        return(output)\n",
    "    \n",
    "    \n",
    "class GCN(torch.nn.Module):\n",
    "    def __init__(self, feat_dim, hidden_dim, num_class, droprate=0.1, bias=True):\n",
    "        super(GCN, self).__init__()\n",
    "        self.GConv1 = GCNlayer(feat_dim, hidden_dim, bias)\n",
    "        self.GConv2 = GCNlayer(hidden_dim, num_class, bias)\n",
    "        self.dropout = torch.nn.Dropout(p=droprate, inplace=False)\n",
    "        self.relu = torch.nn.ReLU()\n",
    "\n",
    "    def forward(self, A, X): #input -> hidden -> dropout -> logsoftmax, forward propagation\n",
    "        #D = torch.diag(pow(torch.sum(A, axis=0),-1/2))\n",
    "        hidden = self.relu(self.GConv1(A, X)) \n",
    "        hidden = self.dropout(hidden)\n",
    "        output = self.GConv2(A, hidden)\n",
    "        output = torch.nn.LogSoftmax(dim=1)(output)\n",
    "        return output\n"
   ]
  },
  {
   "cell_type": "code",
   "execution_count": 33,
   "metadata": {},
   "outputs": [
    {
     "name": "stdout",
     "output_type": "stream",
     "text": [
      "epoch: 001 loss_train: 12.333 loss_val: 9.069\n",
      "epoch: 002 loss_train: 10.961 loss_val: 7.978\n",
      "epoch: 003 loss_train: 10.136 loss_val: 7.148\n",
      "epoch: 004 loss_train: 7.998 loss_val: 7.001\n",
      "epoch: 005 loss_train: 7.684 loss_val: 6.443\n",
      "epoch: 006 loss_train: 6.653 loss_val: 6.587\n",
      "epoch: 007 loss_train: 6.922 loss_val: 6.339\n",
      "epoch: 008 loss_train: 6.287 loss_val: 6.962\n",
      "epoch: 009 loss_train: 5.920 loss_val: 6.581\n",
      "epoch: 010 loss_train: 5.623 loss_val: 6.397\n",
      "epoch: 011 loss_train: 5.935 loss_val: 6.344\n",
      "epoch: 012 loss_train: 5.387 loss_val: 6.329\n",
      "epoch: 013 loss_train: 4.804 loss_val: 5.742\n",
      "epoch: 014 loss_train: 5.297 loss_val: 5.922\n",
      "epoch: 015 loss_train: 4.870 loss_val: 5.652\n",
      "epoch: 016 loss_train: 4.935 loss_val: 6.049\n",
      "epoch: 017 loss_train: 5.085 loss_val: 5.490\n",
      "epoch: 018 loss_train: 4.057 loss_val: 5.349\n",
      "epoch: 019 loss_train: 4.528 loss_val: 5.084\n",
      "epoch: 020 loss_train: 4.026 loss_val: 5.053\n",
      "epoch: 021 loss_train: 3.597 loss_val: 4.616\n",
      "epoch: 022 loss_train: 3.266 loss_val: 4.431\n",
      "epoch: 023 loss_train: 3.460 loss_val: 4.174\n",
      "epoch: 024 loss_train: 3.274 loss_val: 3.758\n",
      "epoch: 025 loss_train: 3.091 loss_val: 3.845\n",
      "epoch: 026 loss_train: 2.797 loss_val: 3.700\n",
      "epoch: 027 loss_train: 2.840 loss_val: 3.676\n",
      "epoch: 028 loss_train: 2.510 loss_val: 3.306\n",
      "epoch: 029 loss_train: 2.515 loss_val: 3.097\n",
      "epoch: 030 loss_train: 2.458 loss_val: 3.687\n",
      "epoch: 031 loss_train: 2.219 loss_val: 3.139\n",
      "epoch: 032 loss_train: 2.157 loss_val: 3.226\n",
      "epoch: 033 loss_train: 2.066 loss_val: 3.128\n",
      "epoch: 034 loss_train: 1.869 loss_val: 2.979\n",
      "epoch: 035 loss_train: 1.688 loss_val: 2.778\n",
      "epoch: 036 loss_train: 2.025 loss_val: 2.928\n",
      "epoch: 037 loss_train: 1.845 loss_val: 3.003\n",
      "epoch: 038 loss_train: 1.688 loss_val: 2.805\n",
      "epoch: 039 loss_train: 1.635 loss_val: 2.467\n",
      "epoch: 040 loss_train: 1.842 loss_val: 2.938\n",
      "epoch: 041 loss_train: 1.381 loss_val: 2.672\n",
      "epoch: 042 loss_train: 1.489 loss_val: 2.737\n",
      "epoch: 043 loss_train: 1.711 loss_val: 2.677\n",
      "epoch: 044 loss_train: 1.488 loss_val: 2.871\n",
      "epoch: 045 loss_train: 1.756 loss_val: 2.813\n",
      "epoch: 046 loss_train: 1.393 loss_val: 2.620\n",
      "epoch: 047 loss_train: 1.583 loss_val: 2.364\n",
      "epoch: 048 loss_train: 1.423 loss_val: 2.494\n",
      "epoch: 049 loss_train: 1.125 loss_val: 2.414\n",
      "epoch: 050 loss_train: 1.136 loss_val: 2.191\n",
      "epoch: 051 loss_train: 1.358 loss_val: 2.359\n",
      "epoch: 052 loss_train: 1.402 loss_val: 2.600\n",
      "epoch: 053 loss_train: 1.051 loss_val: 2.203\n",
      "epoch: 054 loss_train: 0.930 loss_val: 2.270\n",
      "epoch: 055 loss_train: 1.108 loss_val: 2.064\n",
      "epoch: 056 loss_train: 1.112 loss_val: 2.077\n",
      "epoch: 057 loss_train: 1.222 loss_val: 2.068\n",
      "epoch: 058 loss_train: 1.076 loss_val: 2.085\n",
      "epoch: 059 loss_train: 1.158 loss_val: 2.135\n",
      "epoch: 060 loss_train: 0.929 loss_val: 1.880\n",
      "epoch: 061 loss_train: 0.910 loss_val: 1.887\n",
      "epoch: 062 loss_train: 0.776 loss_val: 2.035\n",
      "epoch: 063 loss_train: 1.180 loss_val: 1.874\n",
      "epoch: 064 loss_train: 0.850 loss_val: 1.835\n",
      "epoch: 065 loss_train: 0.944 loss_val: 1.786\n",
      "epoch: 066 loss_train: 0.843 loss_val: 1.877\n",
      "epoch: 067 loss_train: 0.778 loss_val: 1.810\n",
      "epoch: 068 loss_train: 0.760 loss_val: 1.991\n",
      "epoch: 069 loss_train: 0.804 loss_val: 2.062\n",
      "epoch: 070 loss_train: 0.929 loss_val: 1.817\n",
      "epoch: 071 loss_train: 0.760 loss_val: 1.844\n",
      "epoch: 072 loss_train: 0.758 loss_val: 1.966\n",
      "epoch: 073 loss_train: 0.751 loss_val: 1.749\n",
      "epoch: 074 loss_train: 0.664 loss_val: 1.920\n",
      "epoch: 075 loss_train: 0.545 loss_val: 1.837\n",
      "epoch: 076 loss_train: 0.665 loss_val: 1.873\n",
      "epoch: 077 loss_train: 0.677 loss_val: 1.757\n",
      "epoch: 078 loss_train: 0.512 loss_val: 1.709\n",
      "epoch: 079 loss_train: 0.511 loss_val: 1.759\n",
      "epoch: 080 loss_train: 0.613 loss_val: 1.672\n",
      "epoch: 081 loss_train: 0.478 loss_val: 1.729\n",
      "epoch: 082 loss_train: 0.567 loss_val: 1.612\n",
      "epoch: 083 loss_train: 0.478 loss_val: 1.680\n",
      "epoch: 084 loss_train: 0.495 loss_val: 1.541\n",
      "epoch: 085 loss_train: 0.629 loss_val: 1.812\n",
      "epoch: 086 loss_train: 0.565 loss_val: 1.658\n",
      "epoch: 087 loss_train: 0.596 loss_val: 1.747\n",
      "epoch: 088 loss_train: 0.576 loss_val: 1.603\n",
      "epoch: 089 loss_train: 0.370 loss_val: 1.635\n",
      "epoch: 090 loss_train: 0.455 loss_val: 1.541\n",
      "epoch: 091 loss_train: 0.411 loss_val: 1.623\n",
      "epoch: 092 loss_train: 0.472 loss_val: 1.498\n",
      "epoch: 093 loss_train: 0.604 loss_val: 1.541\n",
      "epoch: 094 loss_train: 0.515 loss_val: 1.505\n",
      "epoch: 095 loss_train: 0.517 loss_val: 1.504\n",
      "epoch: 096 loss_train: 0.386 loss_val: 1.608\n",
      "epoch: 097 loss_train: 0.418 loss_val: 1.408\n",
      "epoch: 098 loss_train: 0.428 loss_val: 1.571\n",
      "epoch: 099 loss_train: 0.446 loss_val: 1.490\n",
      "epoch: 100 loss_train: 0.343 loss_val: 1.461\n",
      "epoch: 101 loss_train: 0.458 loss_val: 1.550\n",
      "epoch: 102 loss_train: 0.411 loss_val: 1.477\n",
      "epoch: 103 loss_train: 0.394 loss_val: 1.534\n",
      "epoch: 104 loss_train: 0.458 loss_val: 1.483\n",
      "epoch: 105 loss_train: 0.413 loss_val: 1.407\n",
      "epoch: 106 loss_train: 0.363 loss_val: 1.578\n",
      "epoch: 107 loss_train: 0.366 loss_val: 1.510\n",
      "epoch: 108 loss_train: 0.317 loss_val: 1.260\n",
      "epoch: 109 loss_train: 0.394 loss_val: 1.402\n",
      "epoch: 110 loss_train: 0.380 loss_val: 1.400\n",
      "epoch: 111 loss_train: 0.373 loss_val: 1.407\n",
      "epoch: 112 loss_train: 0.317 loss_val: 1.474\n",
      "epoch: 113 loss_train: 0.350 loss_val: 1.346\n",
      "epoch: 114 loss_train: 0.284 loss_val: 1.382\n",
      "epoch: 115 loss_train: 0.325 loss_val: 1.401\n",
      "epoch: 116 loss_train: 0.353 loss_val: 1.317\n",
      "epoch: 117 loss_train: 0.411 loss_val: 1.526\n",
      "epoch: 118 loss_train: 0.315 loss_val: 1.251\n",
      "epoch: 119 loss_train: 0.315 loss_val: 1.404\n",
      "epoch: 120 loss_train: 0.416 loss_val: 1.352\n",
      "epoch: 121 loss_train: 0.249 loss_val: 1.290\n",
      "epoch: 122 loss_train: 0.352 loss_val: 1.463\n",
      "epoch: 123 loss_train: 0.286 loss_val: 1.311\n",
      "epoch: 124 loss_train: 0.254 loss_val: 1.340\n",
      "epoch: 125 loss_train: 0.251 loss_val: 1.308\n",
      "epoch: 126 loss_train: 0.276 loss_val: 1.276\n",
      "epoch: 127 loss_train: 0.327 loss_val: 1.358\n",
      "epoch: 128 loss_train: 0.315 loss_val: 1.343\n",
      "epoch: 129 loss_train: 0.295 loss_val: 1.222\n",
      "epoch: 130 loss_train: 0.318 loss_val: 1.275\n",
      "epoch: 131 loss_train: 0.210 loss_val: 1.333\n",
      "epoch: 132 loss_train: 0.264 loss_val: 1.150\n",
      "epoch: 133 loss_train: 0.245 loss_val: 1.236\n",
      "epoch: 134 loss_train: 0.318 loss_val: 1.297\n",
      "epoch: 135 loss_train: 0.233 loss_val: 1.152\n",
      "epoch: 136 loss_train: 0.244 loss_val: 1.285\n",
      "epoch: 137 loss_train: 0.201 loss_val: 1.253\n",
      "epoch: 138 loss_train: 0.193 loss_val: 1.208\n",
      "epoch: 139 loss_train: 0.192 loss_val: 1.335\n",
      "epoch: 140 loss_train: 0.267 loss_val: 1.249\n",
      "epoch: 141 loss_train: 0.164 loss_val: 1.322\n",
      "epoch: 142 loss_train: 0.181 loss_val: 1.130\n",
      "epoch: 143 loss_train: 0.237 loss_val: 1.241\n",
      "epoch: 144 loss_train: 0.199 loss_val: 1.234\n",
      "epoch: 145 loss_train: 0.177 loss_val: 1.198\n",
      "epoch: 146 loss_train: 0.173 loss_val: 1.201\n",
      "epoch: 147 loss_train: 0.183 loss_val: 1.186\n",
      "epoch: 148 loss_train: 0.182 loss_val: 1.095\n",
      "epoch: 149 loss_train: 0.184 loss_val: 1.167\n",
      "epoch: 150 loss_train: 0.202 loss_val: 1.305\n",
      "epoch: 151 loss_train: 0.159 loss_val: 1.131\n",
      "epoch: 152 loss_train: 0.187 loss_val: 1.130\n",
      "epoch: 153 loss_train: 0.221 loss_val: 1.291\n",
      "epoch: 154 loss_train: 0.174 loss_val: 1.163\n",
      "epoch: 155 loss_train: 0.098 loss_val: 1.175\n",
      "epoch: 156 loss_train: 0.174 loss_val: 1.270\n",
      "epoch: 157 loss_train: 0.210 loss_val: 1.154\n",
      "epoch: 158 loss_train: 0.180 loss_val: 1.148\n",
      "epoch: 159 loss_train: 0.262 loss_val: 1.219\n",
      "epoch: 160 loss_train: 0.145 loss_val: 1.226\n",
      "epoch: 161 loss_train: 0.199 loss_val: 1.210\n",
      "epoch: 162 loss_train: 0.217 loss_val: 1.127\n",
      "epoch: 163 loss_train: 0.162 loss_val: 1.191\n",
      "epoch: 164 loss_train: 0.149 loss_val: 1.145\n",
      "epoch: 165 loss_train: 0.145 loss_val: 1.153\n",
      "epoch: 166 loss_train: 0.118 loss_val: 1.170\n",
      "epoch: 167 loss_train: 0.116 loss_val: 1.172\n",
      "epoch: 168 loss_train: 0.130 loss_val: 1.134\n",
      "epoch: 169 loss_train: 0.145 loss_val: 1.118\n",
      "epoch: 170 loss_train: 0.143 loss_val: 1.194\n",
      "epoch: 171 loss_train: 0.147 loss_val: 1.170\n",
      "epoch: 172 loss_train: 0.177 loss_val: 1.123\n",
      "epoch: 173 loss_train: 0.155 loss_val: 1.244\n",
      "epoch: 174 loss_train: 0.159 loss_val: 1.204\n",
      "epoch: 175 loss_train: 0.194 loss_val: 1.155\n",
      "epoch: 176 loss_train: 0.167 loss_val: 1.117\n",
      "epoch: 177 loss_train: 0.130 loss_val: 1.103\n",
      "epoch: 178 loss_train: 0.134 loss_val: 1.171\n",
      "epoch: 179 loss_train: 0.163 loss_val: 1.218\n",
      "epoch: 180 loss_train: 0.126 loss_val: 1.101\n",
      "epoch: 181 loss_train: 0.174 loss_val: 1.168\n",
      "epoch: 182 loss_train: 0.115 loss_val: 1.085\n"
     ]
    },
    {
     "name": "stdout",
     "output_type": "stream",
     "text": [
      "epoch: 183 loss_train: 0.172 loss_val: 1.143\n",
      "epoch: 184 loss_train: 0.096 loss_val: 1.093\n",
      "epoch: 185 loss_train: 0.122 loss_val: 1.145\n",
      "epoch: 186 loss_train: 0.099 loss_val: 1.167\n",
      "epoch: 187 loss_train: 0.151 loss_val: 1.071\n",
      "epoch: 188 loss_train: 0.093 loss_val: 1.201\n",
      "epoch: 189 loss_train: 0.167 loss_val: 1.112\n",
      "epoch: 190 loss_train: 0.127 loss_val: 1.086\n",
      "epoch: 191 loss_train: 0.073 loss_val: 1.083\n",
      "epoch: 192 loss_train: 0.110 loss_val: 1.105\n",
      "epoch: 193 loss_train: 0.067 loss_val: 1.062\n",
      "epoch: 194 loss_train: 0.111 loss_val: 1.005\n",
      "epoch: 195 loss_train: 0.104 loss_val: 1.129\n",
      "epoch: 196 loss_train: 0.113 loss_val: 1.054\n",
      "epoch: 197 loss_train: 0.111 loss_val: 1.070\n",
      "epoch: 198 loss_train: 0.102 loss_val: 1.055\n",
      "epoch: 199 loss_train: 0.073 loss_val: 1.077\n",
      "epoch: 200 loss_train: 0.146 loss_val: 1.097\n"
     ]
    }
   ],
   "source": [
    "# automatic detect your gpu, if you do not have gpu, no worry, it will train on cpu\n",
    "# normally, in industry, we need to split train, validation, test dataset; but usually, splitting into train and test set is enough\n",
    "device = torch.device(\"cuda\" if torch.cuda.is_available() else \"cpu\") \n",
    "\n",
    "model = GCN(feat_dim, 16, num_class, droprate=0.5, bias=False)\n",
    "model = model.to(device)\n",
    "optimizer = torch.optim.Adam(model.parameters(), lr=0.01)\n",
    "\n",
    "model.train()\n",
    "losses = []\n",
    "\n",
    "for epoch in range(200):\n",
    "    optimizer.zero_grad()#pytorch will accumulate the gradient, we need to clean it after each epoch training\n",
    "    output = model(A.to(device), features.to(device))\n",
    "\n",
    "    loss = torch.nn.NLLLoss()(output[train_mask].to(device), label_list[train_mask].long().to(device)) # loss defined on train set\n",
    "    loss.backward(retain_graph=True) # back propagation\n",
    "    optimizer.step() # updated parameter\n",
    "    loss_val = torch.nn.NLLLoss()(output[test_mask].to(device), label_list[test_mask].long().to(device)) # loss defined on test set\n",
    "\n",
    "    print('epoch: {:03d}'.format(epoch+1),\n",
    "          'loss_train: {:.3f}'.format(loss.item()),\n",
    "          'loss_val: {:.3f}'.format(loss_val.item()))\n",
    "\n",
    "    losses.append(loss.data.cpu().numpy())"
   ]
  },
  {
   "cell_type": "code",
   "execution_count": 34,
   "metadata": {},
   "outputs": [
    {
     "data": {
      "image/png": "[encoded data removed]",
      "text/plain": [
       "<Figure size 432x288 with 1 Axes>"
      ]
     },
     "metadata": {
      "needs_background": "light"
     },
     "output_type": "display_data"
    }
   ],
   "source": [
    "plt.plot(losses, label='losses', color='g')\n",
    "plt.legend()\n",
    "plt.show()"
   ]
  },
  {
   "cell_type": "code",
   "execution_count": 35,
   "metadata": {},
   "outputs": [
    {
     "name": "stdout",
     "output_type": "stream",
     "text": [
      "accuracy of in test set:  0.794\n"
     ]
    }
   ],
   "source": [
    "model.eval()\n",
    "_, prediction = model(A.to(device),features.cuda()).max(dim=1)\n",
    "acc = acc_calc(label_list[test_mask].to(device),prediction[test_mask].to(device))\n",
    "print(\"accuracy of in test set: \", acc)"
   ]
  },
  {
   "cell_type": "markdown",
   "metadata": {},
   "source": [
    "I believe still have a gap between our model and the model assigned in paper--code can be see in(https://github.com/tkipf/gcn)"
   ]
  },
  {
   "cell_type": "code",
   "execution_count": null,
   "metadata": {},
   "outputs": [],
   "source": []
  },
  {
   "cell_type": "code",
   "execution_count": null,
   "metadata": {},
   "outputs": [],
   "source": []
  },
  {
   "cell_type": "code",
   "execution_count": null,
   "metadata": {},
   "outputs": [],
   "source": []
  }
 ],
 "metadata": {
  "kernelspec": {
   "display_name": "Python 3",
   "language": "python",
   "name": "python3"
  },
  "language_info": {
   "codemirror_mode": {
    "name": "ipython",
    "version": 3
   },
   "file_extension": ".py",
   "mimetype": "text/x-python",
   "name": "python",
   "nbconvert_exporter": "python",
   "pygments_lexer": "ipython3",
   "version": "3.7.4"
  }
 },
 "nbformat": 4,
 "nbformat_minor": 2
}
