{
 "cells": [
  {
   "cell_type": "markdown",
   "metadata": {},
   "source": [
    "# A Simple Numpy Implementation for GCN"
   ]
  },
  {
   "cell_type": "markdown",
   "metadata": {},
   "source": [
    "Here GCN is implemented according to the paper \"Semi-Supervised Classification with Graph Convolutional Networks\"  Thomas N. Kipf,Max Welling"
   ]
  },
  {
   "cell_type": "code",
   "execution_count": 1,
   "metadata": {},
   "outputs": [],
   "source": [
    "import numpy as np\n",
    "import matplotlib.pyplot as plt\n",
    "%matplotlib inline"
   ]
  },
  {
   "cell_type": "markdown",
   "metadata": {},
   "source": [
    "1. introduction"
   ]
  },
  {
   "cell_type": "markdown",
   "metadata": {},
   "source": [
    "<img src=\"GCNPNG.PNG\" width=\"40%\">"
   ]
  },
  {
   "cell_type": "markdown",
   "metadata": {},
   "source": [
    "(1). Adjacency matrix"
   ]
  },
  {
   "cell_type": "code",
   "execution_count": 2,
   "metadata": {},
   "outputs": [
    {
     "data": {
      "text/plain": [
       "array([[0., 1., 0., 0., 1.],\n",
       "       [0., 0., 0., 0., 0.],\n",
       "       [1., 1., 0., 1., 0.],\n",
       "       [0., 0., 0., 0., 0.],\n",
       "       [0., 0., 1., 1., 0.]])"
      ]
     },
     "metadata": {},
     "output_type": "display_data"
    }
   ],
   "source": [
    "A = np.array([\n",
    "    [0, 0, 1, 0, 0],\n",
    "    [1, 0, 1, 0, 0],\n",
    "    [0, 0, 0, 0, 1],\n",
    "    [0, 0, 1, 0, 1],\n",
    "    [1, 0, 0, 0, 0]],\n",
    "    dtype=float\n",
    ").T\n",
    "\n",
    "display(A)"
   ]
  },
  {
   "cell_type": "code",
   "execution_count": 3,
   "metadata": {},
   "outputs": [
    {
     "data": {
      "text/plain": [
       "array([[0., 1., 0., 0., 1.],\n",
       "       [0., 0., 0., 0., 0.],\n",
       "       [1., 1., 0., 1., 0.],\n",
       "       [0., 0., 0., 0., 0.],\n",
       "       [0., 0., 1., 1., 0.]])"
      ]
     },
     "metadata": {},
     "output_type": "display_data"
    },
    {
     "name": "stdout",
     "output_type": "stream",
     "text": [
      "There are the same as the adjacency matrix above, this will be helpful for the our following adjacency matrix construction\n"
     ]
    }
   ],
   "source": [
    "def adjacencyBuild(n, neg, num):\n",
    "    \"\"\"n: current node, neg: neighbour node, num: number of the nodes\"\"\"\n",
    "    \n",
    "    if len(n) != len(neg):\n",
    "        print(\"error\")\n",
    "        return \n",
    "    N = len(n)\n",
    "    A = np.zeros((num, num))\n",
    "    for i in range(N):\n",
    "        A[n[i]-1, neg[i]-1] = 1\n",
    "    return A.T\n",
    "        \n",
    "node = [1,2,2,3,4,4,5]\n",
    "neig = [3,1,3,5,3,5,1]\n",
    "\n",
    "testA = adjacencyBuild(node, neig, 5)\n",
    "display(testA)\n",
    "print(\"There are the same as the adjacency matrix above, this will be helpful for the our following adjacency matrix construction\")"
   ]
  },
  {
   "cell_type": "markdown",
   "metadata": {},
   "source": [
    "(2). Define 2-channel features"
   ]
  },
  {
   "cell_type": "code",
   "execution_count": 4,
   "metadata": {},
   "outputs": [
    {
     "data": {
      "text/plain": [
       "array([[ 6,  1],\n",
       "       [ 2, -1],\n",
       "       [ 1, -1],\n",
       "       [ 3, -3],\n",
       "       [ 5,  0]])"
      ]
     },
     "metadata": {},
     "output_type": "display_data"
    }
   ],
   "source": [
    "features = np.array([\n",
    "    [6, 1],\n",
    "    [2, -1],\n",
    "    [1, -1],\n",
    "    [3, -3],\n",
    "    [5, 0],\n",
    "])\n",
    "\n",
    "display(features)"
   ]
  },
  {
   "cell_type": "code",
   "execution_count": 5,
   "metadata": {
    "scrolled": true
   },
   "outputs": [
    {
     "name": "stdout",
     "output_type": "stream",
     "text": [
      "A:\n"
     ]
    },
    {
     "data": {
      "text/plain": [
       "array([[0., 1., 0., 0., 1.],\n",
       "       [0., 0., 0., 0., 0.],\n",
       "       [1., 1., 0., 1., 0.],\n",
       "       [0., 0., 0., 0., 0.],\n",
       "       [0., 0., 1., 1., 0.]])"
      ]
     },
     "metadata": {},
     "output_type": "display_data"
    },
    {
     "name": "stdout",
     "output_type": "stream",
     "text": [
      "X(features):\n"
     ]
    },
    {
     "data": {
      "text/plain": [
       "array([[ 6,  1],\n",
       "       [ 2, -1],\n",
       "       [ 1, -1],\n",
       "       [ 3, -3],\n",
       "       [ 5,  0]])"
      ]
     },
     "metadata": {},
     "output_type": "display_data"
    },
    {
     "name": "stdout",
     "output_type": "stream",
     "text": [
      "AX:\n"
     ]
    },
    {
     "data": {
      "text/plain": [
       "array([[ 7., -1.],\n",
       "       [ 0.,  0.],\n",
       "       [11., -3.],\n",
       "       [ 0.,  0.],\n",
       "       [ 4., -4.]])"
      ]
     },
     "metadata": {},
     "output_type": "display_data"
    }
   ],
   "source": [
    "print(\"A:\")\n",
    "display(A)\n",
    "print(\"X(features):\")\n",
    "display(features)\n",
    "print(\"AX:\")\n",
    "display(A.dot(features))"
   ]
  },
  {
   "cell_type": "markdown",
   "metadata": {},
   "source": [
    "The graph convolutional layer represents each node as the aggregation of its adjacent nodes.\n",
    "As we can see, the representation of each node (each row) is the sum of the features of its adjacent nodes (the adjacent nodes that the node points to).  "
   ]
  },
  {
   "cell_type": "markdown",
   "metadata": {},
   "source": [
    "(3). Add self loop"
   ]
  },
  {
   "cell_type": "code",
   "execution_count": 6,
   "metadata": {},
   "outputs": [
    {
     "data": {
      "text/plain": [
       "array([[1., 0., 0., 0., 0.],\n",
       "       [0., 1., 0., 0., 0.],\n",
       "       [0., 0., 1., 0., 0.],\n",
       "       [0., 0., 0., 1., 0.],\n",
       "       [0., 0., 0., 0., 1.]])"
      ]
     },
     "metadata": {},
     "output_type": "display_data"
    }
   ],
   "source": [
    "I = np.eye(A.shape[0])\n",
    "display(I)"
   ]
  },
  {
   "cell_type": "code",
   "execution_count": 7,
   "metadata": {},
   "outputs": [
    {
     "data": {
      "text/plain": [
       "array([[1., 1., 0., 0., 1.],\n",
       "       [0., 1., 0., 0., 0.],\n",
       "       [1., 1., 1., 1., 0.],\n",
       "       [0., 0., 0., 1., 0.],\n",
       "       [0., 0., 1., 1., 1.]])"
      ]
     },
     "metadata": {},
     "output_type": "display_data"
    }
   ],
   "source": [
    "A_hat = A + I\n",
    "display(A_hat)"
   ]
  },
  {
   "cell_type": "code",
   "execution_count": 8,
   "metadata": {},
   "outputs": [
    {
     "name": "stdout",
     "output_type": "stream",
     "text": [
      "A*X:\n"
     ]
    },
    {
     "data": {
      "text/plain": [
       "array([[13.,  0.],\n",
       "       [ 2., -1.],\n",
       "       [12., -4.],\n",
       "       [ 3., -3.],\n",
       "       [ 9., -4.]])"
      ]
     },
     "metadata": {},
     "output_type": "display_data"
    }
   ],
   "source": [
    "print(\"A*X:\")\n",
    "display(A_hat.dot(features))"
   ]
  },
  {
   "cell_type": "code",
   "execution_count": 9,
   "metadata": {},
   "outputs": [
    {
     "data": {
      "text/plain": [
       "array([[2., 0., 0., 0., 0.],\n",
       "       [0., 3., 0., 0., 0.],\n",
       "       [0., 0., 2., 0., 0.],\n",
       "       [0., 0., 0., 3., 0.],\n",
       "       [0., 0., 0., 0., 2.]])"
      ]
     },
     "metadata": {},
     "output_type": "display_data"
    }
   ],
   "source": [
    "D = np.diag(np.array(np.sum(A_hat, axis=0)))\n",
    "display(D)"
   ]
  },
  {
   "cell_type": "code",
   "execution_count": 10,
   "metadata": {},
   "outputs": [
    {
     "data": {
      "text/plain": [
       "array([[0.5       , 0.        , 0.        , 0.        , 0.        ],\n",
       "       [0.        , 0.33333333, 0.        , 0.        , 0.        ],\n",
       "       [0.        , 0.        , 0.5       , 0.        , 0.        ],\n",
       "       [0.        , 0.        , 0.        , 0.33333333, 0.        ],\n",
       "       [0.        , 0.        , 0.        , 0.        , 0.5       ]])"
      ]
     },
     "execution_count": 10,
     "metadata": {},
     "output_type": "execute_result"
    }
   ],
   "source": [
    "np.linalg.inv(D)"
   ]
  },
  {
   "cell_type": "code",
   "execution_count": 11,
   "metadata": {},
   "outputs": [
    {
     "data": {
      "text/plain": [
       "array([[0.70710678, 0.        , 0.        , 0.        , 0.        ],\n",
       "       [0.        , 0.57735027, 0.        , 0.        , 0.        ],\n",
       "       [0.        , 0.        , 0.70710678, 0.        , 0.        ],\n",
       "       [0.        , 0.        , 0.        , 0.57735027, 0.        ],\n",
       "       [0.        , 0.        , 0.        , 0.        , 0.70710678]])"
      ]
     },
     "metadata": {},
     "output_type": "display_data"
    }
   ],
   "source": [
    "D_half = np.diag(np.array(np.power(np.sum(A_hat, axis=0),-0.5)))\n",
    "display(D_half)"
   ]
  },
  {
   "cell_type": "markdown",
   "metadata": {},
   "source": [
    "(4). normalization\n",
    "\n",
    "$\\hat{D}^{-1/2}\\hat{A}\\hat{D}^{-1/2}X$\n",
    "\n",
    "$\\hat{D}^{-1}\\hat{A}X$"
   ]
  },
  {
   "cell_type": "code",
   "execution_count": 12,
   "metadata": {},
   "outputs": [
    {
     "name": "stdout",
     "output_type": "stream",
     "text": [
      "normalization1:\n",
      "\n",
      "[[ 6.31649658  0.09175171]\n",
      " [ 0.66666667 -0.33333333]\n",
      " [ 5.54124145 -1.63299316]\n",
      " [ 1.         -1.        ]\n",
      " [ 4.22474487 -1.72474487]]\n",
      "normalization2:\n",
      "\n",
      "[[ 6.5         0.        ]\n",
      " [ 0.66666667 -0.33333333]\n",
      " [ 6.         -2.        ]\n",
      " [ 1.         -1.        ]\n",
      " [ 4.5        -2.        ]]\n"
     ]
    }
   ],
   "source": [
    "print(\"normalization1:\\n\")#np.linalg.matrix_power(D, -1)\n",
    "print(np.dot(np.dot(np.dot(D_half,A_hat),D_half), features))\n",
    "print(\"normalization2:\\n\")#np.linalg.matrix_power(D, -1)\n",
    "print(np.dot(np.dot(np.linalg.inv(D),A_hat), features))"
   ]
  },
  {
   "cell_type": "markdown",
   "metadata": {},
   "source": [
    "(5). Add weights"
   ]
  },
  {
   "cell_type": "code",
   "execution_count": 13,
   "metadata": {},
   "outputs": [],
   "source": [
    "W = np.array([\n",
    "             [1, -0.5],\n",
    "             [-0.6, 1]\n",
    "         ])"
   ]
  },
  {
   "cell_type": "code",
   "execution_count": 14,
   "metadata": {
    "scrolled": true
   },
   "outputs": [
    {
     "name": "stdout",
     "output_type": "stream",
     "text": [
      "add weights:\n",
      "\n",
      "[[ 3.8  -2.25]\n",
      " [ 0.    0.  ]\n",
      " [ 6.4  -4.25]\n",
      " [ 0.    0.  ]\n",
      " [ 3.2  -3.  ]]\n"
     ]
    }
   ],
   "source": [
    "print(\"add weights:\\n\")\n",
    "print(np.dot(np.dot(np.dot(np.linalg.inv(D),A), features),W))"
   ]
  },
  {
   "cell_type": "markdown",
   "metadata": {},
   "source": [
    "add activation function(tanh)"
   ]
  },
  {
   "cell_type": "code",
   "execution_count": 15,
   "metadata": {},
   "outputs": [
    {
     "data": {
      "text/plain": [
       "array([[ 0.9989996 , -0.97802611],\n",
       "       [ 0.        ,  0.        ],\n",
       "       [ 0.99999448, -0.99959315],\n",
       "       [ 0.        ,  0.        ],\n",
       "       [ 0.9966824 , -0.99505475]])"
      ]
     },
     "metadata": {},
     "output_type": "display_data"
    }
   ],
   "source": [
    "display(np.tanh(np.dot(np.dot(np.dot(np.linalg.inv(D),A), features),W)))"
   ]
  },
  {
   "cell_type": "code",
   "execution_count": 16,
   "metadata": {},
   "outputs": [
    {
     "data": {
      "text/plain": [
       "array([[0.97811873, 0.09534946],\n",
       "       [0.5       , 0.5       ],\n",
       "       [0.9983412 , 0.01406363],\n",
       "       [0.5       , 0.5       ],\n",
       "       [0.96083428, 0.04742587]])"
      ]
     },
     "metadata": {},
     "output_type": "display_data"
    }
   ],
   "source": [
    "sigmoid = lambda x:1/(1+np.exp(-x))\n",
    "display(sigmoid(np.dot(np.dot(np.dot(np.linalg.inv(D),A), features),W)))"
   ]
  },
  {
   "cell_type": "markdown",
   "metadata": {},
   "source": [
    " "
   ]
  },
  {
   "cell_type": "markdown",
   "metadata": {},
   "source": [
    " "
   ]
  },
  {
   "cell_type": "markdown",
   "metadata": {},
   "source": [
    "2. Application in Cora Dataset\n",
    "\n",
    "Here, a semi-supervised task about Cora Dataset is implemented step by step"
   ]
  },
  {
   "cell_type": "code",
   "execution_count": 17,
   "metadata": {},
   "outputs": [],
   "source": [
    "import torch\n",
    "\n",
    "\n",
    "#do a little modified compared to before\n",
    "def adjacencyBuild(n, neg, num):\n",
    "    \"\"\"n: current node, neg: neighbour node, num: number of the nodes\"\"\"\n",
    "    if len(n) != len(neg):\n",
    "        print(\"error\")\n",
    "        return \n",
    "    N = len(n)\n",
    "    A = np.zeros((num, num))\n",
    "    for i in range(N):\n",
    "        A[n[i], neg[i]] = 1\n",
    "        A[neg[i], n[i]] = 1\n",
    "    return A\n",
    "\n",
    "\n",
    "#define a accuracy calculation, (correct prediction)/ total\n",
    "def acc_calc(true, pred):\n",
    "    correct = pred.eq(true).sum().item()\n",
    "    total = test_mask.sum().item()\n",
    "    return (correct / total)"
   ]
  },
  {
   "cell_type": "markdown",
   "metadata": {},
   "source": [
    "(1). data prepocessing(you can ignore this part, but do figure out what the data format is)"
   ]
  },
  {
   "cell_type": "code",
   "execution_count": 18,
   "metadata": {},
   "outputs": [],
   "source": [
    "train_mask = torch.Tensor(np.load(\"data/train_mask.npy\")).bool()\n",
    "test_mask = torch.Tensor(np.load(\"data/test_mask.npy\")).bool()\n",
    "features = torch.Tensor(np.load(\"data/features.npy\"))\n",
    "label_list = torch.Tensor(np.load(\"data/label_list.npy\"))\n",
    "edge_index = np.load(\"data/edge_index.npy\")\n",
    "feat_dim = features.shape[1]\n",
    "num_class = int(label_list.max().data.numpy() + 1) #7\n",
    "\n",
    "node_num = features.shape[0]\n",
    "A = adjacencyBuild(edge_index[0,:],edge_index[1,:], node_num)\n",
    "A = A + np.eye(A.shape[0])\n",
    "A = torch.Tensor(A)\n",
    "D = torch.diag(pow(torch.sum(A, axis=0),-1))"
   ]
  },
  {
   "cell_type": "code",
   "execution_count": 19,
   "metadata": {},
   "outputs": [
    {
     "name": "stdout",
     "output_type": "stream",
     "text": [
      "****************************** data info******************************\n",
      "number of node : 2708\n",
      "number of edges : 5278\n",
      "number of classes : 7\n",
      "channel of node features : 1433\n",
      "shape of feat_Matrix : torch.Size([2708, 1433])\n",
      "***********************************************************************\n"
     ]
    }
   ],
   "source": [
    "print(\"{} data info{}\".format(\"*\"*30, \"*\"*30))\n",
    "print(\"number of node : {}\".format(node_num))\n",
    "print(\"number of edges : {}\".format(round(edge_index.shape[1]/2)))\n",
    "print(\"number of classes : {}\".format(num_class))\n",
    "print(\"channel of node features : {}\".format(feat_dim))\n",
    "print(\"shape of feat_Matrix : {}\".format(features.shape))\n",
    "print(\"{}***********{}\".format(\"*\"*30, \"*\"*30))"
   ]
  },
  {
   "cell_type": "markdown",
   "metadata": {},
   "source": [
    "(2). This part show you some basic principles, you can also jump this step. "
   ]
  },
  {
   "cell_type": "code",
   "execution_count": 20,
   "metadata": {},
   "outputs": [],
   "source": [
    "relu = lambda x:np.maximum(0,x)\n",
    "sigmoid = lambda x:1/(1+np.exp(-x))\n",
    "\n",
    "def gcn_layer(A, D, X, W, activation = 'relu'):\n",
    "    if activation == 'relu':\n",
    "        return relu(np.dot(np.dot(np.dot(np.linalg.inv(D),A),X),W))\n",
    "    elif activation == 'sigmoid':\n",
    "        return sigmoid(np.dot(np.dot(np.dot(np.linalg.inv(D),A),X),W))"
   ]
  },
  {
   "cell_type": "code",
   "execution_count": 21,
   "metadata": {},
   "outputs": [],
   "source": [
    "W_N = np.random.normal(loc=0, scale=1, size=(feat_dim, node_num))\n",
    "W_W = np.random.normal(loc=0, size=(node_num, num_class))"
   ]
  },
  {
   "cell_type": "code",
   "execution_count": 22,
   "metadata": {},
   "outputs": [],
   "source": [
    "hidden = gcn_layer(A, D, features, W_N, activation = 'relu')\n",
    "output = gcn_layer(A, D, hidden, W_W, activation = 'relu')"
   ]
  },
  {
   "cell_type": "code",
   "execution_count": 23,
   "metadata": {},
   "outputs": [],
   "source": [
    "result = torch.nn.Softmax(dim=1)(torch.Tensor(output))"
   ]
  },
  {
   "cell_type": "code",
   "execution_count": 24,
   "metadata": {},
   "outputs": [
    {
     "data": {
      "text/plain": [
       "torch.Size([2708, 7])"
      ]
     },
     "metadata": {},
     "output_type": "display_data"
    },
    {
     "data": {
      "text/plain": [
       "tensor([[0., 0., 0.,  ..., 0., 1., 0.],\n",
       "        [0., 0., 0.,  ..., 0., 1., 0.],\n",
       "        [0., 0., 0.,  ..., 0., 1., 0.],\n",
       "        ...,\n",
       "        [0., 0., 0.,  ..., 0., 1., 0.],\n",
       "        [0., 0., 0.,  ..., 0., 1., 0.],\n",
       "        [0., 0., 0.,  ..., 0., 1., 0.]])"
      ]
     },
     "metadata": {},
     "output_type": "display_data"
    },
    {
     "data": {
      "text/plain": [
       "tensor([5, 5, 5,  ..., 5, 5, 5])"
      ]
     },
     "metadata": {},
     "output_type": "display_data"
    }
   ],
   "source": [
    "display(result.size())\n",
    "display(result)\n",
    "display(torch.argmax(result,dim=1))"
   ]
  },
  {
   "cell_type": "code",
   "execution_count": 25,
   "metadata": {},
   "outputs": [
    {
     "data": {
      "text/plain": [
       "tensor(2.0668)"
      ]
     },
     "metadata": {},
     "output_type": "display_data"
    }
   ],
   "source": [
    "loss_fn = torch.nn.CrossEntropyLoss()\n",
    "loss = loss_fn(result, label_list.long())\n",
    "display(loss)"
   ]
  },
  {
   "cell_type": "markdown",
   "metadata": {},
   "source": [
    "(3).Start training"
   ]
  },
  {
   "cell_type": "code",
   "execution_count": 26,
   "metadata": {},
   "outputs": [],
   "source": [
    "def gcn_layer(A, D, X, W, activation = 'relu'):\n",
    "    if activation == 'relu':\n",
    "        return torch.relu(torch.mm(torch.mm(torch.mm(D,A),X),W))\n",
    "    elif activation == 'sigmoid':\n",
    "        return torch.sigmoid(torch.mm(torch.mm(torch.mm(D,A),X),W))\n",
    "    else:\n",
    "        return torch.mm(torch.mm(torch.mm(torch.mm(D,A),D),X),W)\n",
    "    \n",
    "def two_layer_gcn(A, D, X, W1, W2):\n",
    "    hidden = gcn_layer(A, D, X, W1, activation = None) # we do not add any activation\n",
    "    output = gcn_layer(A, D, hidden, W2, activation = None)\n",
    "    return torch.nn.Softmax(dim=1)(output)"
   ]
  },
  {
   "cell_type": "code",
   "execution_count": 27,
   "metadata": {},
   "outputs": [],
   "source": [
    "W_N = np.random.normal(loc=0, scale=1, size=(feat_dim, 50))\n",
    "W_W = np.random.normal(loc=0, size=(50, num_class))\n",
    "W_N = torch.autograd.Variable(torch.Tensor(W_N), requires_grad=True)\n",
    "W_W = torch.autograd.Variable(torch.Tensor(W_W), requires_grad=True)\n",
    "\n",
    "A = torch.Tensor(A)\n",
    "D = torch.Tensor(D)\n",
    "features = torch.Tensor(features)\n",
    "\n",
    "learning_rate = 1# the smaller it would be better, but after that, you need to increase the size of epoches\n",
    "losses = []\n",
    "epoches = 200\n",
    "loss_fn = torch.nn.CrossEntropyLoss()"
   ]
  },
  {
   "cell_type": "code",
   "execution_count": 28,
   "metadata": {},
   "outputs": [],
   "source": [
    "train_mask = torch.zeros(node_num, dtype=torch.bool)\n",
    "train_mask[:node_num - 1000] = 1                  # 1700 training\n",
    "test_mask = torch.zeros(node_num, dtype=torch.bool)\n",
    "test_mask[node_num - 500:] = 1                    # 500 test"
   ]
  },
  {
   "cell_type": "code",
   "execution_count": 29,
   "metadata": {},
   "outputs": [
    {
     "name": "stdout",
     "output_type": "stream",
     "text": [
      "if we do not train, the accuracy is : 0.142000\n"
     ]
    }
   ],
   "source": [
    "prediction = two_layer_gcn(A, D, features, W_N, W_W)\n",
    "prediction = torch.argmax(prediction,dim=1)\n",
    "correct = float(prediction[test_mask].eq(label_list[test_mask]).sum().item())\n",
    "accuracy = correct / test_mask.sum().item()\n",
    "print('if we do not train, the accuracy is : {:.6f}'.format(accuracy))"
   ]
  },
  {
   "cell_type": "code",
   "execution_count": 30,
   "metadata": {
    "scrolled": false
   },
   "outputs": [
    {
     "name": "stdout",
     "output_type": "stream",
     "text": [
      "loss:1.9543739557266235\n",
      "loss:1.9424790143966675\n",
      "loss:1.9297372102737427\n",
      "loss:1.9173548221588135\n",
      "loss:1.903292179107666\n",
      "loss:1.8872184753417969\n",
      "loss:1.8731129169464111\n",
      "loss:1.8610827922821045\n",
      "loss:1.85047447681427\n",
      "loss:1.841111421585083\n"
     ]
    }
   ],
   "source": [
    "for i in range(epoches):\n",
    "    #hidden = gcn_layer(A_hat, D, feat_Matrix, W_N, activation = 'relu')\n",
    "    #output = gcn_layer(A_hat, D, hidden, W_W, activation = 'relu')\n",
    "    #result = torch.nn.Softmax(dim=1)(output)\n",
    "    \n",
    "    result = two_layer_gcn(A, D, features, W_N, W_W)\n",
    "    loss = loss_fn(result[train_mask], label_list[train_mask].long())\n",
    "    \n",
    "    loss.backward()\n",
    "    W_N.data.add_(-learning_rate*W_N.grad.data)\n",
    "    W_W.data.add_(-learning_rate*W_W.grad.data)\n",
    "    \n",
    "    W_N.grad.data.zero_()\n",
    "    W_W.grad.data.zero_()\n",
    "    losses.append(loss.data.numpy())\n",
    "    if i % 20 == 0: print('loss:{}'.format(loss))"
   ]
  },
  {
   "cell_type": "code",
   "execution_count": 31,
   "metadata": {},
   "outputs": [
    {
     "name": "stdout",
     "output_type": "stream",
     "text": [
      "after training, the accuracy: 0.402000\n"
     ]
    }
   ],
   "source": [
    "prediction = two_layer_gcn(A, D, features, W_N, W_W)\n",
    "prediction = torch.argmax(prediction,dim=1)\n",
    "correct = float(prediction[test_mask].eq(label_list[test_mask]).sum().item())\n",
    "accuracy = correct / test_mask.sum().item()\n",
    "print('after training, the accuracy: {:.6f}'.format(accuracy))"
   ]
  },
  {
   "cell_type": "code",
   "execution_count": 32,
   "metadata": {},
   "outputs": [
    {
     "data": {
      "image/png": "[encoded data removed]",
      "text/plain": [
       "<Figure size 432x288 with 1 Axes>"
      ]
     },
     "metadata": {
      "needs_background": "light"
     },
     "output_type": "display_data"
    }
   ],
   "source": [
    "plt.plot(losses, label='losses', color='g')\n",
    "plt.legend()\n",
    "plt.show()"
   ]
  },
  {
   "cell_type": "markdown",
   "metadata": {},
   "source": [
    "I applied the model on CPU just considering your convenience that you may run it on your laptop.\n",
    "The accuracy of prediction is low in part because the training epoches are not enough, I set it as small just to make a quick presentation."
   ]
  },
  {
   "cell_type": "markdown",
   "metadata": {},
   "source": [
    " "
   ]
  },
  {
   "cell_type": "markdown",
   "metadata": {},
   "source": [
    "Another form(CUDA/CPU), in this form, we can use the built-in optimizer which is much more efficient than we used above!"
   ]
  },
  {
   "cell_type": "markdown",
   "metadata": {},
   "source": [
    "We still use the A and features defined above, now we train."
   ]
  },
  {
   "cell_type": "code",
   "execution_count": 33,
   "metadata": {},
   "outputs": [],
   "source": [
    "import torch\n",
    "\n",
    "class GCN(torch.nn.Module):\n",
    "    def __init__(self, A, feat_dim, hidden_dim, num_class, droprate=0.1):\n",
    "        super(GCN, self).__init__()\n",
    "        \n",
    "        # we set two learnable parameters (torch.nn.Parameter)\n",
    "        self.W_N = torch.nn.Parameter(data=torch.rand(feat_dim, hidden_dim), requires_grad=True) \n",
    "        self.W_W = torch.nn.Parameter(data=torch.rand(hidden_dim, num_class), requires_grad=True)\n",
    "\n",
    "        #D = torch.Tensor(np.diag(np.array(np.power(np.sum(A.data.cpu().numpy(), axis=0),-1))))\n",
    "        self.D = torch.diag(pow(torch.sum(A, axis=0),-1))\n",
    "        self.A = A\n",
    "        self.droprate = droprate\n",
    "\n",
    "    def gcn_layer(self, A, D, X, W):\n",
    "        return torch.mm(torch.mm(torch.mm(D, A),X),W) #this is the gcn layer we defined, (D^{-1}A)XW\n",
    "    \n",
    "    def forward(self, X): #input -> hidden -> dropout -> logsoftmax, forward propagation\n",
    "        hidden = torch.nn.ReLU()(self.gcn_layer(self.A, self.D, X, self.W_N))\n",
    "        hidden = torch.nn.Dropout(p=self.droprate, inplace=False)(hidden)\n",
    "        output = self.gcn_layer(self.A, self.D, hidden, self.W_W)\n",
    "        output = torch.nn.LogSoftmax(dim=1)(output)\n",
    "        return output\n",
    "\n"
   ]
  },
  {
   "cell_type": "code",
   "execution_count": 34,
   "metadata": {},
   "outputs": [
    {
     "name": "stdout",
     "output_type": "stream",
     "text": [
      "epoch: 001 loss_train: 15.205 loss_val: 13.363\n",
      "epoch: 002 loss_train: 12.610 loss_val: 11.538\n",
      "epoch: 003 loss_train: 11.026 loss_val: 9.663\n",
      "epoch: 004 loss_train: 10.098 loss_val: 8.970\n",
      "epoch: 005 loss_train: 9.917 loss_val: 9.555\n",
      "epoch: 006 loss_train: 8.958 loss_val: 8.014\n",
      "epoch: 007 loss_train: 8.947 loss_val: 8.168\n",
      "epoch: 008 loss_train: 7.404 loss_val: 7.481\n",
      "epoch: 009 loss_train: 8.239 loss_val: 7.717\n",
      "epoch: 010 loss_train: 7.243 loss_val: 7.167\n",
      "epoch: 011 loss_train: 6.771 loss_val: 6.991\n",
      "epoch: 012 loss_train: 6.579 loss_val: 5.796\n",
      "epoch: 013 loss_train: 6.140 loss_val: 5.821\n",
      "epoch: 014 loss_train: 5.595 loss_val: 5.856\n",
      "epoch: 015 loss_train: 5.510 loss_val: 6.050\n",
      "epoch: 016 loss_train: 5.170 loss_val: 5.030\n",
      "epoch: 017 loss_train: 4.651 loss_val: 4.658\n",
      "epoch: 018 loss_train: 4.442 loss_val: 5.001\n",
      "epoch: 019 loss_train: 4.253 loss_val: 4.686\n",
      "epoch: 020 loss_train: 3.960 loss_val: 5.079\n",
      "epoch: 021 loss_train: 4.604 loss_val: 4.907\n",
      "epoch: 022 loss_train: 4.141 loss_val: 4.801\n",
      "epoch: 023 loss_train: 3.754 loss_val: 4.718\n",
      "epoch: 024 loss_train: 3.812 loss_val: 4.186\n",
      "epoch: 025 loss_train: 3.561 loss_val: 3.980\n",
      "epoch: 026 loss_train: 3.743 loss_val: 4.125\n",
      "epoch: 027 loss_train: 3.214 loss_val: 3.373\n",
      "epoch: 028 loss_train: 3.257 loss_val: 3.172\n",
      "epoch: 029 loss_train: 3.080 loss_val: 3.344\n",
      "epoch: 030 loss_train: 2.793 loss_val: 3.125\n",
      "epoch: 031 loss_train: 2.813 loss_val: 3.141\n",
      "epoch: 032 loss_train: 3.029 loss_val: 3.322\n",
      "epoch: 033 loss_train: 2.756 loss_val: 2.800\n",
      "epoch: 034 loss_train: 2.497 loss_val: 3.019\n",
      "epoch: 035 loss_train: 2.400 loss_val: 2.855\n",
      "epoch: 036 loss_train: 2.490 loss_val: 2.723\n",
      "epoch: 037 loss_train: 2.270 loss_val: 2.452\n",
      "epoch: 038 loss_train: 2.100 loss_val: 2.519\n",
      "epoch: 039 loss_train: 2.149 loss_val: 2.453\n",
      "epoch: 040 loss_train: 2.070 loss_val: 2.707\n",
      "epoch: 041 loss_train: 2.110 loss_val: 2.463\n",
      "epoch: 042 loss_train: 2.117 loss_val: 2.205\n",
      "epoch: 043 loss_train: 2.131 loss_val: 2.357\n",
      "epoch: 044 loss_train: 2.031 loss_val: 2.153\n",
      "epoch: 045 loss_train: 1.912 loss_val: 2.077\n",
      "epoch: 046 loss_train: 1.891 loss_val: 2.132\n",
      "epoch: 047 loss_train: 1.839 loss_val: 2.087\n",
      "epoch: 048 loss_train: 1.694 loss_val: 1.856\n",
      "epoch: 049 loss_train: 1.668 loss_val: 1.800\n",
      "epoch: 050 loss_train: 1.573 loss_val: 1.921\n",
      "epoch: 051 loss_train: 1.689 loss_val: 1.931\n",
      "epoch: 052 loss_train: 1.528 loss_val: 1.903\n",
      "epoch: 053 loss_train: 1.485 loss_val: 1.662\n",
      "epoch: 054 loss_train: 1.562 loss_val: 2.009\n",
      "epoch: 055 loss_train: 1.567 loss_val: 1.757\n",
      "epoch: 056 loss_train: 1.549 loss_val: 1.581\n",
      "epoch: 057 loss_train: 1.384 loss_val: 1.682\n",
      "epoch: 058 loss_train: 1.513 loss_val: 1.795\n",
      "epoch: 059 loss_train: 1.501 loss_val: 1.548\n",
      "epoch: 060 loss_train: 1.344 loss_val: 1.602\n",
      "epoch: 061 loss_train: 1.344 loss_val: 1.479\n",
      "epoch: 062 loss_train: 1.238 loss_val: 1.422\n",
      "epoch: 063 loss_train: 1.209 loss_val: 1.361\n",
      "epoch: 064 loss_train: 1.241 loss_val: 1.461\n",
      "epoch: 065 loss_train: 1.304 loss_val: 1.378\n",
      "epoch: 066 loss_train: 1.190 loss_val: 1.500\n",
      "epoch: 067 loss_train: 1.152 loss_val: 1.255\n",
      "epoch: 068 loss_train: 1.231 loss_val: 1.248\n",
      "epoch: 069 loss_train: 1.101 loss_val: 1.359\n",
      "epoch: 070 loss_train: 1.079 loss_val: 1.278\n",
      "epoch: 071 loss_train: 1.093 loss_val: 1.263\n",
      "epoch: 072 loss_train: 1.047 loss_val: 1.254\n",
      "epoch: 073 loss_train: 1.100 loss_val: 1.216\n",
      "epoch: 074 loss_train: 1.072 loss_val: 1.131\n",
      "epoch: 075 loss_train: 1.105 loss_val: 1.355\n",
      "epoch: 076 loss_train: 1.012 loss_val: 1.362\n",
      "epoch: 077 loss_train: 0.999 loss_val: 1.104\n",
      "epoch: 078 loss_train: 0.941 loss_val: 1.146\n",
      "epoch: 079 loss_train: 1.017 loss_val: 1.223\n",
      "epoch: 080 loss_train: 0.969 loss_val: 1.074\n",
      "epoch: 081 loss_train: 0.898 loss_val: 1.086\n",
      "epoch: 082 loss_train: 0.899 loss_val: 1.068\n",
      "epoch: 083 loss_train: 0.938 loss_val: 1.081\n",
      "epoch: 084 loss_train: 0.960 loss_val: 1.116\n",
      "epoch: 085 loss_train: 0.911 loss_val: 0.924\n",
      "epoch: 086 loss_train: 0.840 loss_val: 1.055\n",
      "epoch: 087 loss_train: 0.905 loss_val: 0.944\n",
      "epoch: 088 loss_train: 0.868 loss_val: 0.925\n",
      "epoch: 089 loss_train: 0.810 loss_val: 0.991\n",
      "epoch: 090 loss_train: 0.788 loss_val: 0.973\n",
      "epoch: 091 loss_train: 0.823 loss_val: 0.918\n",
      "epoch: 092 loss_train: 0.753 loss_val: 0.942\n",
      "epoch: 093 loss_train: 0.825 loss_val: 1.011\n",
      "epoch: 094 loss_train: 0.784 loss_val: 0.955\n",
      "epoch: 095 loss_train: 0.671 loss_val: 0.868\n",
      "epoch: 096 loss_train: 0.715 loss_val: 0.863\n",
      "epoch: 097 loss_train: 0.750 loss_val: 0.875\n",
      "epoch: 098 loss_train: 0.729 loss_val: 0.844\n",
      "epoch: 099 loss_train: 0.702 loss_val: 0.846\n",
      "epoch: 100 loss_train: 0.729 loss_val: 0.880\n",
      "epoch: 101 loss_train: 0.667 loss_val: 0.797\n",
      "epoch: 102 loss_train: 0.682 loss_val: 0.835\n",
      "epoch: 103 loss_train: 0.682 loss_val: 0.831\n",
      "epoch: 104 loss_train: 0.667 loss_val: 0.837\n",
      "epoch: 105 loss_train: 0.707 loss_val: 0.899\n",
      "epoch: 106 loss_train: 0.637 loss_val: 0.717\n",
      "epoch: 107 loss_train: 0.625 loss_val: 0.733\n",
      "epoch: 108 loss_train: 0.656 loss_val: 0.696\n",
      "epoch: 109 loss_train: 0.577 loss_val: 0.783\n",
      "epoch: 110 loss_train: 0.609 loss_val: 0.730\n",
      "epoch: 111 loss_train: 0.582 loss_val: 0.809\n",
      "epoch: 112 loss_train: 0.623 loss_val: 0.786\n",
      "epoch: 113 loss_train: 0.593 loss_val: 0.784\n",
      "epoch: 114 loss_train: 0.579 loss_val: 0.741\n",
      "epoch: 115 loss_train: 0.573 loss_val: 0.722\n",
      "epoch: 116 loss_train: 0.567 loss_val: 0.671\n",
      "epoch: 117 loss_train: 0.549 loss_val: 0.806\n",
      "epoch: 118 loss_train: 0.566 loss_val: 0.777\n",
      "epoch: 119 loss_train: 0.574 loss_val: 0.715\n",
      "epoch: 120 loss_train: 0.553 loss_val: 0.750\n",
      "epoch: 121 loss_train: 0.526 loss_val: 0.777\n",
      "epoch: 122 loss_train: 0.525 loss_val: 0.642\n",
      "epoch: 123 loss_train: 0.545 loss_val: 0.662\n",
      "epoch: 124 loss_train: 0.550 loss_val: 0.692\n",
      "epoch: 125 loss_train: 0.535 loss_val: 0.699\n",
      "epoch: 126 loss_train: 0.519 loss_val: 0.656\n",
      "epoch: 127 loss_train: 0.512 loss_val: 0.664\n",
      "epoch: 128 loss_train: 0.490 loss_val: 0.752\n",
      "epoch: 129 loss_train: 0.516 loss_val: 0.674\n",
      "epoch: 130 loss_train: 0.490 loss_val: 0.607\n",
      "epoch: 131 loss_train: 0.471 loss_val: 0.656\n",
      "epoch: 132 loss_train: 0.485 loss_val: 0.575\n",
      "epoch: 133 loss_train: 0.514 loss_val: 0.666\n",
      "epoch: 134 loss_train: 0.476 loss_val: 0.561\n",
      "epoch: 135 loss_train: 0.462 loss_val: 0.648\n",
      "epoch: 136 loss_train: 0.463 loss_val: 0.603\n",
      "epoch: 137 loss_train: 0.474 loss_val: 0.542\n",
      "epoch: 138 loss_train: 0.462 loss_val: 0.560\n",
      "epoch: 139 loss_train: 0.466 loss_val: 0.591\n",
      "epoch: 140 loss_train: 0.446 loss_val: 0.617\n",
      "epoch: 141 loss_train: 0.451 loss_val: 0.590\n",
      "epoch: 142 loss_train: 0.445 loss_val: 0.630\n",
      "epoch: 143 loss_train: 0.439 loss_val: 0.549\n",
      "epoch: 144 loss_train: 0.453 loss_val: 0.651\n",
      "epoch: 145 loss_train: 0.444 loss_val: 0.563\n",
      "epoch: 146 loss_train: 0.448 loss_val: 0.569\n",
      "epoch: 147 loss_train: 0.440 loss_val: 0.533\n",
      "epoch: 148 loss_train: 0.434 loss_val: 0.550\n",
      "epoch: 149 loss_train: 0.459 loss_val: 0.582\n",
      "epoch: 150 loss_train: 0.434 loss_val: 0.558\n",
      "epoch: 151 loss_train: 0.416 loss_val: 0.624\n",
      "epoch: 152 loss_train: 0.430 loss_val: 0.572\n",
      "epoch: 153 loss_train: 0.415 loss_val: 0.587\n",
      "epoch: 154 loss_train: 0.388 loss_val: 0.517\n",
      "epoch: 155 loss_train: 0.398 loss_val: 0.533\n",
      "epoch: 156 loss_train: 0.411 loss_val: 0.617\n",
      "epoch: 157 loss_train: 0.385 loss_val: 0.535\n",
      "epoch: 158 loss_train: 0.379 loss_val: 0.542\n",
      "epoch: 159 loss_train: 0.394 loss_val: 0.560\n",
      "epoch: 160 loss_train: 0.417 loss_val: 0.527\n",
      "epoch: 161 loss_train: 0.371 loss_val: 0.510\n",
      "epoch: 162 loss_train: 0.381 loss_val: 0.533\n",
      "epoch: 163 loss_train: 0.388 loss_val: 0.539\n",
      "epoch: 164 loss_train: 0.373 loss_val: 0.522\n",
      "epoch: 165 loss_train: 0.403 loss_val: 0.513\n",
      "epoch: 166 loss_train: 0.374 loss_val: 0.497\n",
      "epoch: 167 loss_train: 0.371 loss_val: 0.528\n",
      "epoch: 168 loss_train: 0.375 loss_val: 0.511\n",
      "epoch: 169 loss_train: 0.368 loss_val: 0.532\n",
      "epoch: 170 loss_train: 0.371 loss_val: 0.534\n",
      "epoch: 171 loss_train: 0.342 loss_val: 0.449\n",
      "epoch: 172 loss_train: 0.365 loss_val: 0.530\n",
      "epoch: 173 loss_train: 0.348 loss_val: 0.516\n",
      "epoch: 174 loss_train: 0.370 loss_val: 0.548\n",
      "epoch: 175 loss_train: 0.338 loss_val: 0.492\n",
      "epoch: 176 loss_train: 0.375 loss_val: 0.520\n",
      "epoch: 177 loss_train: 0.344 loss_val: 0.516\n",
      "epoch: 178 loss_train: 0.359 loss_val: 0.500\n",
      "epoch: 179 loss_train: 0.337 loss_val: 0.522\n",
      "epoch: 180 loss_train: 0.357 loss_val: 0.543\n",
      "epoch: 181 loss_train: 0.357 loss_val: 0.484\n"
     ]
    },
    {
     "name": "stdout",
     "output_type": "stream",
     "text": [
      "epoch: 182 loss_train: 0.361 loss_val: 0.513\n",
      "epoch: 183 loss_train: 0.328 loss_val: 0.472\n",
      "epoch: 184 loss_train: 0.334 loss_val: 0.550\n",
      "epoch: 185 loss_train: 0.346 loss_val: 0.518\n",
      "epoch: 186 loss_train: 0.345 loss_val: 0.468\n",
      "epoch: 187 loss_train: 0.334 loss_val: 0.612\n",
      "epoch: 188 loss_train: 0.337 loss_val: 0.497\n",
      "epoch: 189 loss_train: 0.336 loss_val: 0.458\n",
      "epoch: 190 loss_train: 0.325 loss_val: 0.497\n",
      "epoch: 191 loss_train: 0.351 loss_val: 0.581\n",
      "epoch: 192 loss_train: 0.343 loss_val: 0.531\n",
      "epoch: 193 loss_train: 0.339 loss_val: 0.540\n",
      "epoch: 194 loss_train: 0.334 loss_val: 0.555\n",
      "epoch: 195 loss_train: 0.323 loss_val: 0.495\n",
      "epoch: 196 loss_train: 0.305 loss_val: 0.471\n",
      "epoch: 197 loss_train: 0.334 loss_val: 0.444\n",
      "epoch: 198 loss_train: 0.317 loss_val: 0.472\n",
      "epoch: 199 loss_train: 0.312 loss_val: 0.474\n",
      "epoch: 200 loss_train: 0.324 loss_val: 0.464\n"
     ]
    }
   ],
   "source": [
    "#automatic detect your gpu, if you do not have gpu, no worry, it will train on cpu\n",
    "\n",
    "device = torch.device(\"cuda\" if torch.cuda.is_available() else \"cpu\") \n",
    "\n",
    "model = GCN(A.to(device), feat_dim, 16, num_class, droprate=0.5)\n",
    "model = model.to(device)\n",
    "optimizer = torch.optim.Adam(model.parameters(), lr=0.01)\n",
    "\n",
    "model.train()\n",
    "losses = []\n",
    "\n",
    "for epoch in range(200):\n",
    "    optimizer.zero_grad()\n",
    "    output = model(features.to(device))\n",
    "\n",
    "    loss = torch.nn.NLLLoss()(output[train_mask].to(device), label_list[train_mask].long().to(device))\n",
    "    loss.backward(retain_graph=True)\n",
    "    optimizer.step()\n",
    "    loss_val = torch.nn.NLLLoss()(output[test_mask].to(device), label_list[test_mask].long().to(device))\n",
    "\n",
    "    print('epoch: {:03d}'.format(epoch+1),\n",
    "          'loss_train: {:.3f}'.format(loss.item()),\n",
    "          'loss_val: {:.3f}'.format(loss_val.item()))\n",
    "\n",
    "    losses.append(loss.data.cpu().numpy())"
   ]
  },
  {
   "cell_type": "code",
   "execution_count": 35,
   "metadata": {},
   "outputs": [
    {
     "data": {
      "image/png": "[encoded data removed]",
      "text/plain": [
       "<Figure size 432x288 with 1 Axes>"
      ]
     },
     "metadata": {
      "needs_background": "light"
     },
     "output_type": "display_data"
    }
   ],
   "source": [
    "import matplotlib.pyplot as plt\n",
    "%matplotlib inline\n",
    "plt.plot(losses, label='losses', color='g')\n",
    "plt.legend()\n",
    "plt.show()"
   ]
  },
  {
   "cell_type": "code",
   "execution_count": 36,
   "metadata": {},
   "outputs": [
    {
     "name": "stdout",
     "output_type": "stream",
     "text": [
      "accuracy of in test set:  0.856\n"
     ]
    }
   ],
   "source": [
    "model.eval()\n",
    "_, prediction = model(features.cuda()).max(dim=1)\n",
    "acc = acc_calc(label_list[test_mask].to(device),prediction[test_mask].to(device))\n",
    "print(\"accuracy of in test set: \", acc)"
   ]
  },
  {
   "cell_type": "markdown",
   "metadata": {},
   "source": [
    "I believe still have a gap between our model and the model assigned in paper--code can be see in(https://github.com/tkipf/gcn)"
   ]
  },
  {
   "cell_type": "code",
   "execution_count": null,
   "metadata": {},
   "outputs": [],
   "source": []
  },
  {
   "cell_type": "code",
   "execution_count": null,
   "metadata": {},
   "outputs": [],
   "source": []
  },
  {
   "cell_type": "code",
   "execution_count": null,
   "metadata": {},
   "outputs": [],
   "source": []
  }
 ],
 "metadata": {
  "kernelspec": {
   "display_name": "Python 3",
   "language": "python",
   "name": "python3"
  },
  "language_info": {
   "codemirror_mode": {
    "name": "ipython",
    "version": 3
   },
   "file_extension": ".py",
   "mimetype": "text/x-python",
   "name": "python",
   "nbconvert_exporter": "python",
   "pygments_lexer": "ipython3",
   "version": "3.7.4"
  }
 },
 "nbformat": 4,
 "nbformat_minor": 2
}
